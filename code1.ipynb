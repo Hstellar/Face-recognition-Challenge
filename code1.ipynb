{
  "nbformat": 4,
  "nbformat_minor": 0,
  "metadata": {
    "colab": {
      "name": "code1.ipynb",
      "version": "0.3.2",
      "provenance": [],
      "toc_visible": true,
      "include_colab_link": true
    },
    "kernelspec": {
      "display_name": "Python 3",
      "language": "python",
      "name": "python3"
    }
  },
  "cells": [
    {
      "cell_type": "markdown",
      "metadata": {
        "id": "view-in-github",
        "colab_type": "text"
      },
      "source": [
        "[View in Colaboratory](https://colab.research.google.com/github/Hstellar/Face-recognition-Challenge/blob/master/code1.ipynb)"
      ]
    },
    {
      "metadata": {
        "id": "yldpF9Mz2ws3",
        "colab_type": "code",
        "colab": {
          "base_uri": "https://localhost:8080/",
          "height": 124
        },
        "outputId": "362a0c14-92f0-4ea4-a0e0-11cc8d592603"
      },
      "cell_type": "code",
      "source": [
        "\n",
        "import cv2\n",
        "import numpy as np\n",
        "import os\n",
        "from skimage import io\n",
        "from google.colab import drive\n",
        "drive.mount('/content/drive')\n"
      ],
      "execution_count": 1,
      "outputs": [
        {
          "output_type": "stream",
          "text": [
            "Go to this URL in a browser: https://accounts.google.com/o/oauth2/auth?client_id=947318989803-6bn6qk8qdgf4n4g3pfee6491hc0brc4i.apps.googleusercontent.com&redirect_uri=urn%3Aietf%3Awg%3Aoauth%3A2.0%3Aoob&scope=email%20https%3A%2F%2Fwww.googleapis.com%2Fauth%2Fdocs.test%20https%3A%2F%2Fwww.googleapis.com%2Fauth%2Fdrive%20https%3A%2F%2Fwww.googleapis.com%2Fauth%2Fdrive.photos.readonly%20https%3A%2F%2Fwww.googleapis.com%2Fauth%2Fpeopleapi.readonly&response_type=code\n",
            "\n",
            "Enter your authorization code:\n",
            "··········\n",
            "Mounted at /content/drive\n"
          ],
          "name": "stdout"
        }
      ]
    },
    {
      "metadata": {
        "id": "i00gVT2f2ws5",
        "colab_type": "code",
        "colab": {
          "base_uri": "https://localhost:8080/",
          "height": 89
        },
        "outputId": "04519850-ac5f-47fb-b394-0adee9f4a19f"
      },
      "cell_type": "code",
      "source": [
        "\n",
        "from sklearn.cross_validation import train_test_split\n",
        "from keras.models import Sequential"
      ],
      "execution_count": 2,
      "outputs": [
        {
          "output_type": "stream",
          "text": [
            "/usr/local/lib/python3.6/dist-packages/sklearn/cross_validation.py:41: DeprecationWarning: This module was deprecated in version 0.18 in favor of the model_selection module into which all the refactored classes and functions are moved. Also note that the interface of the new CV iterators are different from that of this module. This module will be removed in 0.20.\n",
            "  \"This module will be removed in 0.20.\", DeprecationWarning)\n",
            "Using TensorFlow backend.\n"
          ],
          "name": "stderr"
        }
      ]
    },
    {
      "metadata": {
        "id": "tmKon79f2ws-",
        "colab_type": "code",
        "colab": {}
      },
      "cell_type": "code",
      "source": [
        "from keras.layers import Dense, Dropout, Activation, Flatten\n",
        "from keras.layers import Convolution2D, MaxPooling2D\n",
        "from keras.utils import np_utils\n",
        "from keras import backend as K"
      ],
      "execution_count": 0,
      "outputs": []
    },
    {
      "metadata": {
        "id": "dssjJ68K2wtA",
        "colab_type": "code",
        "colab": {}
      },
      "cell_type": "code",
      "source": [
        "\n",
        "\n",
        "from skimage import color\n",
        "from skimage import io\n",
        "image_path = []\n",
        "name=\"drive//My Drive//DataSet\"\n",
        "for file_name in os.listdir(name):\n",
        "    image_path.append(os.path.join(name, file_name))\n",
        "\n",
        "imageDataFin = []\n",
        "imageLabels = []\n",
        "    \n",
        "# read face images and class labels\n",
        "for img in image_path:\n",
        "    imgRead = io.imread(img, as_grey=True)\n",
        "    imgRead = cv2.resize(imgRead, (250, 250)) \n",
        "    \n",
        "    imageDataFin.append (imgRead)\n",
        "    labelRead = int(os.path.split(img)[1].split(\"_\")[0])\n",
        "#     print(labelRead)\n",
        "    imageLabels.append(labelRead)"
      ],
      "execution_count": 0,
      "outputs": []
    },
    {
      "metadata": {
        "id": "lNZpCgM42wtD",
        "colab_type": "code",
        "colab": {
          "base_uri": "https://localhost:8080/",
          "height": 69
        },
        "outputId": "e7e9578a-5292-478c-ccb4-0506554c90d1"
      },
      "cell_type": "code",
      "source": [
        "# split the data into training set and test set\n",
        "X_train, X_test, y_train, y_test = train_test_split(np.array(imageDataFin), np.array(imageLabels), train_size=0.8, \n",
        "                                                    random_state = 123)\n",
        "\n",
        "# fix the random seed for reproducibility\n",
        "seed = 123\n",
        "np.random.seed(seed)\n",
        "\n",
        "# configuration\n",
        "batch_size = 32\n",
        "# nb_classes = 38\n",
        "nb_classes =35\n",
        "nb_epoch = 15\n",
        "# image dimensions\n",
        "img_rows, img_cols = 250, 250\n",
        "# number of convolutional filters to use\n",
        "nb_filters = 32\n",
        "# size of pooling area for max pooling\n",
        "pool_size = (2, 2)\n",
        "# convolution kernel size\n",
        "kernel_size = (3, 3)\n",
        "\n",
        "# resdhape the data matrix\n",
        "if K.image_dim_ordering() == 'th':\n",
        "    X_train = X_train.reshape(X_train.shape[0], 1, img_rows, img_cols)\n",
        "    X_test = X_test.reshape(X_test.shape[0], 1, img_rows, img_cols)\n",
        "    input_shape = (1, img_rows, img_cols)\n",
        "else:\n",
        "    X_train = X_train.reshape(X_train.shape[0], img_rows, img_cols, 1)\n",
        "    X_test = X_test.reshape(X_test.shape[0], img_rows, img_cols, 1)\n",
        "    input_shape = (img_rows, img_cols, 1)\n",
        "\n",
        "# scale the data\n",
        "X_train = X_train.astype('float32')\n",
        "X_test = X_test.astype('float32')\n",
        "X_train /= 255\n",
        "X_test /= 255\n",
        "print('X_train shape:', X_train.shape)\n",
        "print(X_train.shape[0], 'train samples')\n",
        "print(X_test.shape[0], 'test samples')\n",
        "\n",
        "# one-hot encoding for the class label\n",
        "Y_train = np_utils.to_categorical(y_train, nb_classes)\n",
        "Y_test = np_utils.to_categorical(y_test, nb_classes)\n"
      ],
      "execution_count": 6,
      "outputs": [
        {
          "output_type": "stream",
          "text": [
            "X_train shape: (308, 250, 250, 1)\n",
            "308 train samples\n",
            "77 test samples\n"
          ],
          "name": "stdout"
        }
      ]
    },
    {
      "metadata": {
        "id": "qU_klilP2wtH",
        "colab_type": "code",
        "colab": {
          "base_uri": "https://localhost:8080/",
          "height": 1500
        },
        "outputId": "44e2a727-8411-478f-e2cf-cac1bfb4cb96"
      },
      "cell_type": "code",
      "source": [
        "\n",
        "import keras\n",
        "import os\n",
        "from keras.utils import plot_model\n",
        "import matplotlib.pyplot as plt\n",
        "#os.environ[\"PATH\"] += os.pathsep + 'C:/Users/HP/Anaconda3/envs/tf/Lib/site-packages/graphviz-2.38/release/bin'\n",
        "\n",
        "# define the convolutional neural network model\n",
        "model = Sequential()\n",
        "model.add(Convolution2D(nb_filters, kernel_size[0], kernel_size[1],\n",
        "                        border_mode='valid',\n",
        "                        input_shape=input_shape))\n",
        "model.add(Activation('relu'))\n",
        "model.add(Convolution2D(nb_filters, kernel_size[0], kernel_size[1]))\n",
        "model.add(Activation('relu'))\n",
        "model.add(MaxPooling2D(pool_size=pool_size))\n",
        "model.add(Dropout(0.25))\n",
        "\n",
        "model.add(Flatten())\n",
        "model.add(Dense(128))\n",
        "model.add(Activation('relu'))\n",
        "model.add(Dropout(0.5))\n",
        "model.add(Dense(nb_classes))\n",
        "model.add(Activation('softmax'))\n",
        "\n",
        "\n",
        "# inputs = Input((250,250))\n",
        "# model = Model(inputs, model)\n",
        "print(model.summary())\n",
        "#plot_model(model, to_file = 'C:/Users/HP/Desktop/model/model.png')\n",
        "\n",
        "\n",
        "# compile the CNN model\n",
        "model.compile(loss='categorical_crossentropy', optimizer='sgd',metrics=['accuracy'])\n",
        "\n",
        "history=model.fit(X_train, Y_train, batch_size=batch_size, nb_epoch=nb_epoch,\n",
        "          verbose=1, validation_data=(X_test, Y_test))\n",
        "\n",
        "\n",
        "# evaluation\n",
        "score = model.evaluate(X_test, Y_test, verbose=0)\n",
        "print('Loss:', score[0])\n",
        "print('Accuracy:', score[1])\n",
        "\n",
        "pred = model.predict(X_test, batch_size=32, verbose=1)\n",
        "predicted = np.argmax(pred, axis=1)\n",
        "report = classification_report(np.argmax(Y_test, axis=1), predicted)\n",
        "print(report)\n",
        "\n",
        "plt.plot(history.history[\"acc\"])\n",
        "plt.plot(history.history[\"val_acc\"])\n",
        "plt.title(\"Model Accuracy\")\n",
        "plt.xlabel(\"Epoch\")\n",
        "plt.ylabel(\"Accuracy\")\n",
        "plt.legend([\"train\", \"test\"], loc=\"upper left\")\n",
        "plt.show()\n",
        "\n",
        "# find out which images are classified wrongly\n",
        "predicted_classes = model.predict_classes(X_test)\n",
        "correct_classified_indices = np.nonzero(predicted_classes == Y_test)[0]\n",
        "incorrect_classified_indices = np.nonzero(predicted_classes != Y_test)[0]\n",
        "if not incorrect_classified_indices:\n",
        "    print('\\nAll test samples are correctly recognized.')\n",
        "else:\n",
        "    print('The incorrect indices are:', incorrect_classified_indices) "
      ],
      "execution_count": 7,
      "outputs": [
        {
          "output_type": "stream",
          "text": [
            "/usr/local/lib/python3.6/dist-packages/ipykernel_launcher.py:12: UserWarning: Update your `Conv2D` call to the Keras 2 API: `Conv2D(32, (3, 3), input_shape=(250, 250,..., padding=\"valid\")`\n",
            "  if sys.path[0] == '':\n",
            "/usr/local/lib/python3.6/dist-packages/ipykernel_launcher.py:14: UserWarning: Update your `Conv2D` call to the Keras 2 API: `Conv2D(32, (3, 3))`\n",
            "  \n",
            "/usr/local/lib/python3.6/dist-packages/keras/models.py:981: UserWarning: The `nb_epoch` argument in `fit` has been renamed `epochs`.\n",
            "  warnings.warn('The `nb_epoch` argument in `fit` '\n"
          ],
          "name": "stderr"
        },
        {
          "output_type": "stream",
          "text": [
            "_________________________________________________________________\n",
            "Layer (type)                 Output Shape              Param #   \n",
            "=================================================================\n",
            "conv2d_1 (Conv2D)            (None, 248, 248, 32)      320       \n",
            "_________________________________________________________________\n",
            "activation_1 (Activation)    (None, 248, 248, 32)      0         \n",
            "_________________________________________________________________\n",
            "conv2d_2 (Conv2D)            (None, 246, 246, 32)      9248      \n",
            "_________________________________________________________________\n",
            "activation_2 (Activation)    (None, 246, 246, 32)      0         \n",
            "_________________________________________________________________\n",
            "max_pooling2d_1 (MaxPooling2 (None, 123, 123, 32)      0         \n",
            "_________________________________________________________________\n",
            "dropout_1 (Dropout)          (None, 123, 123, 32)      0         \n",
            "_________________________________________________________________\n",
            "flatten_1 (Flatten)          (None, 484128)            0         \n",
            "_________________________________________________________________\n",
            "dense_1 (Dense)              (None, 128)               61968512  \n",
            "_________________________________________________________________\n",
            "activation_3 (Activation)    (None, 128)               0         \n",
            "_________________________________________________________________\n",
            "dropout_2 (Dropout)          (None, 128)               0         \n",
            "_________________________________________________________________\n",
            "dense_2 (Dense)              (None, 35)                4515      \n",
            "_________________________________________________________________\n",
            "activation_4 (Activation)    (None, 35)                0         \n",
            "=================================================================\n",
            "Total params: 61,982,595\n",
            "Trainable params: 61,982,595\n",
            "Non-trainable params: 0\n",
            "_________________________________________________________________\n",
            "None\n",
            "Train on 308 samples, validate on 77 samples\n",
            "Epoch 1/15\n",
            "308/308 [==============================] - 75s 242ms/step - loss: 3.5551 - acc: 0.0390 - val_loss: 3.5545 - val_acc: 0.0390\n",
            "Epoch 2/15\n",
            "308/308 [==============================] - 71s 231ms/step - loss: 3.5543 - acc: 0.0292 - val_loss: 3.5534 - val_acc: 0.0519\n",
            "Epoch 3/15\n",
            "308/308 [==============================] - 70s 229ms/step - loss: 3.5512 - acc: 0.0227 - val_loss: 3.5496 - val_acc: 0.0519\n",
            "Epoch 4/15\n",
            "308/308 [==============================] - 71s 230ms/step - loss: 3.5430 - acc: 0.0357 - val_loss: 3.5431 - val_acc: 0.0519\n",
            "Epoch 5/15\n",
            "308/308 [==============================] - 70s 228ms/step - loss: 3.5416 - acc: 0.0422 - val_loss: 3.5385 - val_acc: 0.0519\n",
            "Epoch 6/15\n",
            "308/308 [==============================] - 71s 230ms/step - loss: 3.5462 - acc: 0.0357 - val_loss: 3.5401 - val_acc: 0.0519\n",
            "Epoch 7/15\n",
            "308/308 [==============================] - 72s 234ms/step - loss: 3.5487 - acc: 0.0292 - val_loss: 3.5420 - val_acc: 0.0390\n",
            "Epoch 8/15\n",
            "308/308 [==============================] - 71s 231ms/step - loss: 3.5270 - acc: 0.0487 - val_loss: 3.5302 - val_acc: 0.0390\n",
            "Epoch 9/15\n",
            "308/308 [==============================] - 71s 231ms/step - loss: 3.5358 - acc: 0.0260 - val_loss: 3.5293 - val_acc: 0.0390\n",
            "Epoch 10/15\n",
            "308/308 [==============================] - 71s 230ms/step - loss: 3.5233 - acc: 0.0455 - val_loss: 3.5297 - val_acc: 0.0390\n",
            "Epoch 11/15\n",
            "308/308 [==============================] - 72s 233ms/step - loss: 3.5220 - acc: 0.0519 - val_loss: 3.5189 - val_acc: 0.0390\n",
            "Epoch 12/15\n",
            "308/308 [==============================] - 71s 231ms/step - loss: 3.5079 - acc: 0.0487 - val_loss: 3.5197 - val_acc: 0.0390\n",
            "Epoch 13/15\n",
            "308/308 [==============================] - 72s 232ms/step - loss: 3.5460 - acc: 0.0422 - val_loss: 3.5278 - val_acc: 0.0260\n",
            "Epoch 14/15\n",
            "308/308 [==============================] - 71s 230ms/step - loss: 3.5232 - acc: 0.0455 - val_loss: 3.5285 - val_acc: 0.0390\n",
            "Epoch 15/15\n",
            "308/308 [==============================] - 72s 232ms/step - loss: 3.5243 - acc: 0.0357 - val_loss: 3.5225 - val_acc: 0.0390\n",
            "Loss: 3.5224878695104027\n",
            "Accuracy: 0.03896103896103896\n",
            "77/77 [==============================] - 4s 51ms/step\n"
          ],
          "name": "stdout"
        },
        {
          "output_type": "error",
          "ename": "NameError",
          "evalue": "ignored",
          "traceback": [
            "\u001b[0;31m---------------------------------------------------------------------------\u001b[0m",
            "\u001b[0;31mNameError\u001b[0m                                 Traceback (most recent call last)",
            "\u001b[0;32m<ipython-input-7-28659ee0db64>\u001b[0m in \u001b[0;36m<module>\u001b[0;34m()\u001b[0m\n\u001b[1;32m     45\u001b[0m \u001b[0mpred\u001b[0m \u001b[0;34m=\u001b[0m \u001b[0mmodel\u001b[0m\u001b[0;34m.\u001b[0m\u001b[0mpredict\u001b[0m\u001b[0;34m(\u001b[0m\u001b[0mX_test\u001b[0m\u001b[0;34m,\u001b[0m \u001b[0mbatch_size\u001b[0m\u001b[0;34m=\u001b[0m\u001b[0;36m32\u001b[0m\u001b[0;34m,\u001b[0m \u001b[0mverbose\u001b[0m\u001b[0;34m=\u001b[0m\u001b[0;36m1\u001b[0m\u001b[0;34m)\u001b[0m\u001b[0;34m\u001b[0m\u001b[0m\n\u001b[1;32m     46\u001b[0m \u001b[0mpredicted\u001b[0m \u001b[0;34m=\u001b[0m \u001b[0mnp\u001b[0m\u001b[0;34m.\u001b[0m\u001b[0margmax\u001b[0m\u001b[0;34m(\u001b[0m\u001b[0mpred\u001b[0m\u001b[0;34m,\u001b[0m \u001b[0maxis\u001b[0m\u001b[0;34m=\u001b[0m\u001b[0;36m1\u001b[0m\u001b[0;34m)\u001b[0m\u001b[0;34m\u001b[0m\u001b[0m\n\u001b[0;32m---> 47\u001b[0;31m \u001b[0mreport\u001b[0m \u001b[0;34m=\u001b[0m \u001b[0mclassification_report\u001b[0m\u001b[0;34m(\u001b[0m\u001b[0mnp\u001b[0m\u001b[0;34m.\u001b[0m\u001b[0margmax\u001b[0m\u001b[0;34m(\u001b[0m\u001b[0mY_test\u001b[0m\u001b[0;34m,\u001b[0m \u001b[0maxis\u001b[0m\u001b[0;34m=\u001b[0m\u001b[0;36m1\u001b[0m\u001b[0;34m)\u001b[0m\u001b[0;34m,\u001b[0m \u001b[0mpredicted\u001b[0m\u001b[0;34m)\u001b[0m\u001b[0;34m\u001b[0m\u001b[0m\n\u001b[0m\u001b[1;32m     48\u001b[0m \u001b[0mprint\u001b[0m\u001b[0;34m(\u001b[0m\u001b[0mreport\u001b[0m\u001b[0;34m)\u001b[0m\u001b[0;34m\u001b[0m\u001b[0m\n\u001b[1;32m     49\u001b[0m \u001b[0;34m\u001b[0m\u001b[0m\n",
            "\u001b[0;31mNameError\u001b[0m: name 'classification_report' is not defined"
          ]
        }
      ]
    },
    {
      "metadata": {
        "id": "GFbDAvfja4GV",
        "colab_type": "code",
        "colab": {}
      },
      "cell_type": "code",
      "source": [
        ""
      ],
      "execution_count": 0,
      "outputs": []
    }
  ]
}