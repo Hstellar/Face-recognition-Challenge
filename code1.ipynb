{
  "nbformat": 4,
  "nbformat_minor": 0,
  "metadata": {
    "colab": {
      "name": "code1.ipynb",
      "version": "0.3.2",
      "provenance": [],
      "toc_visible": true,
      "include_colab_link": true
    },
    "kernelspec": {
      "display_name": "Python 3",
      "language": "python",
      "name": "python3"
    },
    "accelerator": "GPU"
  },
  "cells": [
    {
      "cell_type": "markdown",
      "metadata": {
        "id": "view-in-github",
        "colab_type": "text"
      },
      "source": [
        "[View in Colaboratory](https://colab.research.google.com/github/Hstellar/Face-recognition-Challenge/blob/master/code1.ipynb)"
      ]
    },
    {
      "metadata": {
        "id": "yldpF9Mz2ws3",
        "colab_type": "code",
        "colab": {
          "base_uri": "https://localhost:8080/",
          "height": 34
        },
        "outputId": "8dec2125-a46f-4616-a825-d61798569769"
      },
      "cell_type": "code",
      "source": [
        "import cv2\n",
        "import numpy as np\n",
        "import os\n",
        "from skimage import io\n",
        "from google.colab import drive\n",
        "drive.mount('/content/drive')\n"
      ],
      "execution_count": 7,
      "outputs": [
        {
          "output_type": "stream",
          "text": [
            "Mounted at /content/drive\n"
          ],
          "name": "stdout"
        }
      ]
    },
    {
      "metadata": {
        "id": "i00gVT2f2ws5",
        "colab_type": "code",
        "colab": {}
      },
      "cell_type": "code",
      "source": [
        "  \n",
        "from sklearn.cross_validation import train_test_split\n",
        "from keras.models import Sequential"
      ],
      "execution_count": 0,
      "outputs": []
    },
    {
      "metadata": {
        "id": "tmKon79f2ws-",
        "colab_type": "code",
        "colab": {}
      },
      "cell_type": "code",
      "source": [
        "from keras.layers import Dense, Dropout, Activation, Flatten\n",
        "from keras.layers import Convolution2D, MaxPooling2D\n",
        "from keras.utils import np_utils\n",
        "from keras import backend as K"
      ],
      "execution_count": 0,
      "outputs": []
    },
    {
      "metadata": {
        "id": "dssjJ68K2wtA",
        "colab_type": "code",
        "colab": {}
      },
      "cell_type": "code",
      "source": [
        "\n",
        "\n",
        "from skimage import color\n",
        "from skimage import io\n",
        "image_path = []\n",
        "name=\"drive//My Drive//DataSet\"\n",
        "for file_name in os.listdir(name):\n",
        "    image_path.append(os.path.join(name, file_name))\n",
        "\n",
        "imageDataFin = []\n",
        "imageLabels = []\n",
        "from skimage import color\n",
        "from skimage import io\n",
        "    \n",
        "# read face images and class labels\n",
        "for img in image_path:\n",
        "    imgRead = color.rgb2gray(io.imread(img))\n",
        "    #imgRead = io.imread(img, as_grey=True)\n",
        "    imgRead = cv2.resize(imgRead, (250, 250)) \n",
        "    \n",
        "    imageDataFin.append (imgRead)\n",
        "    labelRead = int(os.path.split(img)[1].split(\"_\")[0])\n",
        "#     print(labelRead)\n",
        "    imageLabels.append(labelRead)"
      ],
      "execution_count": 0,
      "outputs": []
    },
    {
      "metadata": {
        "id": "lNZpCgM42wtD",
        "colab_type": "code",
        "colab": {
          "base_uri": "https://localhost:8080/",
          "height": 67
        },
        "outputId": "dd9a61c2-b9ba-454b-efa3-d3ddd4f62ca4"
      },
      "cell_type": "code",
      "source": [
        "from sklearn.cross_validation import train_test_split\n",
        "import numpy as np\n",
        "# split the data into training set and test set\n",
        "X_train, X_test, y_train, y_test = train_test_split(np.array(imageDataFin), np.array(imageLabels), train_size=0.9, \n",
        "                                                    random_state = 123)\n",
        "\n",
        "# fix the random seed for reproducibility\n",
        "seed = 123\n",
        "np.random.seed(seed)\n",
        "\n",
        "# configuration\n",
        "batch_size = 32\n",
        "# nb_classes = 38\n",
        "nb_classes =35\n",
        "nb_epoch = 50\n",
        "# image dimensions\n",
        "img_rows, img_cols = 250, 250\n",
        "# number of convolutional filters to use\n",
        "nb_filters = 32\n",
        "# size of pooling area for max pooling\n",
        "pool_size = (2, 2)\n",
        "# convolution kernel size\n",
        "kernel_size = (3, 3)\n",
        "\n",
        "# resdhape the data matrix\n",
        "if K.image_dim_ordering() == 'th':\n",
        "    X_train = X_train.reshape(X_train.shape[0], 1, img_rows, img_cols)\n",
        "    X_test = X_test.reshape(X_test.shape[0], 1, img_rows, img_cols)\n",
        "    input_shape = (1, img_rows, img_cols)\n",
        "else:\n",
        "    X_train = X_train.reshape(X_train.shape[0], img_rows, img_cols, 1)\n",
        "    X_test = X_test.reshape(X_test.shape[0], img_rows, img_cols, 1)\n",
        "    input_shape = (img_rows, img_cols, 1)\n",
        "\n",
        "# scale the data\n",
        "X_train = X_train.astype('float32')\n",
        "X_test = X_test.astype('float32')\n",
        "X_train /= 255\n",
        "X_test /= 255\n",
        "print('X_train shape:', X_train.shape)\n",
        "print(X_train.shape[0], 'train samples')\n",
        "print(X_test.shape[0], 'test samples')\n",
        "\n",
        "# one-hot encoding for the class label\n",
        "Y_train = np_utils.to_categorical(y_train, nb_classes)\n",
        "Y_test = np_utils.to_categorical(y_test, nb_classes)\n"
      ],
      "execution_count": 11,
      "outputs": [
        {
          "output_type": "stream",
          "text": [
            "X_train shape: (346, 250, 250, 1)\n",
            "346 train samples\n",
            "39 test samples\n"
          ],
          "name": "stdout"
        }
      ]
    },
    {
      "metadata": {
        "id": "qU_klilP2wtH",
        "colab_type": "code",
        "colab": {
          "base_uri": "https://localhost:8080/",
          "height": 3454
        },
        "outputId": "a67d68ec-fa94-4670-ded3-0bcc9e62887b"
      },
      "cell_type": "code",
      "source": [
        "\n",
        "import keras\n",
        "import os\n",
        "from keras.utils import plot_model\n",
        "import matplotlib.pyplot as plt\n",
        "#os.environ[\"PATH\"] += os.pathsep + 'C:/Users/HP/Anaconda3/envs/tf/Lib/site-packages/graphviz-2.38/release/bin'\n",
        "from sklearn.metrics import classification_report\n",
        "# define the convolutional neural network model\n",
        "model = Sequential()\n",
        "model.add(Convolution2D(nb_filters, kernel_size[0], kernel_size[1],\n",
        "                        border_mode='valid',\n",
        "                        input_shape=input_shape))\n",
        "model.add(Activation('relu'))\n",
        "model.add(Convolution2D(nb_filters, kernel_size[0], kernel_size[1]))\n",
        "model.add(Activation('relu'))\n",
        "model.add(MaxPooling2D(pool_size=pool_size))\n",
        "model.add(Dropout(0.25))\n",
        "\n",
        "model.add(Flatten())\n",
        "model.add(Dense(128))\n",
        "model.add(Activation('relu'))\n",
        "model.add(Dropout(0.5))\n",
        "model.add(Dense(nb_classes))\n",
        "model.add(Activation('softmax'))\n",
        "\n",
        "\n",
        "# inputs = Input((250,250))\n",
        "# model = Model(inputs, model)\n",
        "print(model.summary())\n",
        "#plot_model(model, to_file = 'C:/Users/HP/Desktop/model/model.png')\n",
        "\n",
        "\n",
        "# compile the CNN model\n",
        "model.compile(loss='categorical_crossentropy', optimizer='adam',metrics=['accuracy'])\n",
        "\n",
        "history=model.fit(X_train, Y_train, batch_size=batch_size, nb_epoch=nb_epoch,\n",
        "          verbose=1, validation_data=(X_test, Y_test))\n",
        "\n",
        "\n",
        "# evaluation\n",
        "score = model.evaluate(X_test, Y_test, verbose=1)\n",
        "print('Loss:', score[0])\n",
        "print('Accuracy:', score[1])\n",
        "\n",
        "pred = model.predict(X_test, batch_size=32, verbose=1)\n",
        "predicted = np.argmax(pred, axis=1)\n",
        "report = classification_report(np.argmax(Y_test, axis=1), predicted)\n",
        "print(report)\n",
        "\n",
        "plt.plot(history.history[\"acc\"])\n",
        "plt.plot(history.history[\"val_acc\"])\n",
        "plt.title(\"Model Accuracy\")\n",
        "plt.xlabel(\"Epoch\")\n",
        "plt.ylabel(\"Accuracy\")\n",
        "plt.legend([\"train\", \"test\"], loc=\"upper left\")\n",
        "plt.show()\n",
        "\n",
        "# find out which images are classified wrongly\n",
        "predicted_classes = model.predict_classes(X_test)\n",
        "correct_classified_indices = np.nonzero(predicted_classes == Y_test)[0]\n",
        "incorrect_classified_indices = np.nonzero(predicted_classes != Y_test)[0]\n",
        "if not incorrect_classified_indices:\n",
        "    print('\\nAll test samples are correctly recognized.')\n",
        "else:\n",
        "    print('The incorrect indices are:', incorrect_classified_indices) "
      ],
      "execution_count": 12,
      "outputs": [
        {
          "output_type": "stream",
          "text": [
            "/usr/local/lib/python3.6/dist-packages/ipykernel_launcher.py:12: UserWarning: Update your `Conv2D` call to the Keras 2 API: `Conv2D(32, (3, 3), input_shape=(250, 250,..., padding=\"valid\")`\n",
            "  if sys.path[0] == '':\n",
            "/usr/local/lib/python3.6/dist-packages/ipykernel_launcher.py:14: UserWarning: Update your `Conv2D` call to the Keras 2 API: `Conv2D(32, (3, 3))`\n",
            "  \n",
            "/usr/local/lib/python3.6/dist-packages/keras/models.py:981: UserWarning: The `nb_epoch` argument in `fit` has been renamed `epochs`.\n",
            "  warnings.warn('The `nb_epoch` argument in `fit` '\n"
          ],
          "name": "stderr"
        },
        {
          "output_type": "stream",
          "text": [
            "_________________________________________________________________\n",
            "Layer (type)                 Output Shape              Param #   \n",
            "=================================================================\n",
            "conv2d_3 (Conv2D)            (None, 248, 248, 32)      320       \n",
            "_________________________________________________________________\n",
            "activation_5 (Activation)    (None, 248, 248, 32)      0         \n",
            "_________________________________________________________________\n",
            "conv2d_4 (Conv2D)            (None, 246, 246, 32)      9248      \n",
            "_________________________________________________________________\n",
            "activation_6 (Activation)    (None, 246, 246, 32)      0         \n",
            "_________________________________________________________________\n",
            "max_pooling2d_2 (MaxPooling2 (None, 123, 123, 32)      0         \n",
            "_________________________________________________________________\n",
            "dropout_3 (Dropout)          (None, 123, 123, 32)      0         \n",
            "_________________________________________________________________\n",
            "flatten_2 (Flatten)          (None, 484128)            0         \n",
            "_________________________________________________________________\n",
            "dense_3 (Dense)              (None, 128)               61968512  \n",
            "_________________________________________________________________\n",
            "activation_7 (Activation)    (None, 128)               0         \n",
            "_________________________________________________________________\n",
            "dropout_4 (Dropout)          (None, 128)               0         \n",
            "_________________________________________________________________\n",
            "dense_4 (Dense)              (None, 35)                4515      \n",
            "_________________________________________________________________\n",
            "activation_8 (Activation)    (None, 35)                0         \n",
            "=================================================================\n",
            "Total params: 61,982,595\n",
            "Trainable params: 61,982,595\n",
            "Non-trainable params: 0\n",
            "_________________________________________________________________\n",
            "None\n",
            "Train on 346 samples, validate on 39 samples\n",
            "Epoch 1/50\n",
            "346/346 [==============================] - 6s 16ms/step - loss: 3.5494 - acc: 0.0405 - val_loss: 3.5647 - val_acc: 0.0256\n",
            "Epoch 2/50\n",
            "346/346 [==============================] - 3s 10ms/step - loss: 3.5535 - acc: 0.0376 - val_loss: 3.5502 - val_acc: 0.0256\n",
            "Epoch 3/50\n",
            "346/346 [==============================] - 3s 10ms/step - loss: 3.5469 - acc: 0.0549 - val_loss: 3.5442 - val_acc: 0.0513\n",
            "Epoch 4/50\n",
            "346/346 [==============================] - 3s 10ms/step - loss: 3.5471 - acc: 0.0549 - val_loss: 3.5267 - val_acc: 0.0256\n",
            "Epoch 5/50\n",
            "346/346 [==============================] - 3s 10ms/step - loss: 3.5295 - acc: 0.0405 - val_loss: 3.5318 - val_acc: 0.0513\n",
            "Epoch 6/50\n",
            "346/346 [==============================] - 3s 10ms/step - loss: 3.5088 - acc: 0.0376 - val_loss: 3.5320 - val_acc: 0.0256\n",
            "Epoch 7/50\n",
            "346/346 [==============================] - 3s 10ms/step - loss: 3.5355 - acc: 0.0462 - val_loss: 3.5372 - val_acc: 0.0256\n",
            "Epoch 8/50\n",
            "346/346 [==============================] - 3s 10ms/step - loss: 3.5095 - acc: 0.0347 - val_loss: 3.5247 - val_acc: 0.0256\n",
            "Epoch 9/50\n",
            "346/346 [==============================] - 3s 10ms/step - loss: 3.5245 - acc: 0.0434 - val_loss: 3.5313 - val_acc: 0.0513\n",
            "Epoch 10/50\n",
            "346/346 [==============================] - 3s 10ms/step - loss: 3.5296 - acc: 0.0202 - val_loss: 3.5219 - val_acc: 0.0256\n",
            "Epoch 11/50\n",
            "346/346 [==============================] - 3s 10ms/step - loss: 3.5190 - acc: 0.0520 - val_loss: 3.5208 - val_acc: 0.0256\n",
            "Epoch 12/50\n",
            "346/346 [==============================] - 3s 10ms/step - loss: 3.4974 - acc: 0.0462 - val_loss: 3.5125 - val_acc: 0.0000e+00\n",
            "Epoch 13/50\n",
            "346/346 [==============================] - 3s 10ms/step - loss: 3.5065 - acc: 0.0434 - val_loss: 3.5118 - val_acc: 0.0000e+00\n",
            "Epoch 14/50\n",
            "346/346 [==============================] - 3s 10ms/step - loss: 3.4979 - acc: 0.0636 - val_loss: 3.5050 - val_acc: 0.0000e+00\n",
            "Epoch 15/50\n",
            "346/346 [==============================] - 3s 10ms/step - loss: 3.5006 - acc: 0.0289 - val_loss: 3.5090 - val_acc: 0.0000e+00\n",
            "Epoch 16/50\n",
            "346/346 [==============================] - 3s 10ms/step - loss: 3.4926 - acc: 0.0549 - val_loss: 3.5114 - val_acc: 0.0513\n",
            "Epoch 17/50\n",
            "346/346 [==============================] - 3s 10ms/step - loss: 3.4808 - acc: 0.0289 - val_loss: 3.5160 - val_acc: 0.0256\n",
            "Epoch 18/50\n",
            "346/346 [==============================] - 3s 10ms/step - loss: 3.4686 - acc: 0.0636 - val_loss: 3.5079 - val_acc: 0.0256\n",
            "Epoch 19/50\n",
            "346/346 [==============================] - 3s 10ms/step - loss: 3.4493 - acc: 0.0549 - val_loss: 3.4994 - val_acc: 0.0256\n",
            "Epoch 20/50\n",
            "346/346 [==============================] - 3s 10ms/step - loss: 3.4303 - acc: 0.0665 - val_loss: 3.4686 - val_acc: 0.0256\n",
            "Epoch 21/50\n",
            "346/346 [==============================] - 3s 10ms/step - loss: 3.3948 - acc: 0.0694 - val_loss: 3.4326 - val_acc: 0.1026\n",
            "Epoch 22/50\n",
            "346/346 [==============================] - 3s 10ms/step - loss: 3.3309 - acc: 0.1040 - val_loss: 3.3974 - val_acc: 0.1282\n",
            "Epoch 23/50\n",
            "346/346 [==============================] - 3s 10ms/step - loss: 3.2866 - acc: 0.1098 - val_loss: 3.3613 - val_acc: 0.0769\n",
            "Epoch 24/50\n",
            "346/346 [==============================] - 3s 10ms/step - loss: 3.2054 - acc: 0.1214 - val_loss: 3.1861 - val_acc: 0.1795\n",
            "Epoch 25/50\n",
            "346/346 [==============================] - 3s 10ms/step - loss: 3.1055 - acc: 0.1387 - val_loss: 3.0805 - val_acc: 0.2051\n",
            "Epoch 26/50\n",
            "346/346 [==============================] - 3s 10ms/step - loss: 2.9167 - acc: 0.1734 - val_loss: 2.9519 - val_acc: 0.2051\n",
            "Epoch 27/50\n",
            "346/346 [==============================] - 3s 10ms/step - loss: 2.7686 - acc: 0.2168 - val_loss: 2.8092 - val_acc: 0.2308\n",
            "Epoch 28/50\n",
            "346/346 [==============================] - 3s 10ms/step - loss: 2.6753 - acc: 0.2254 - val_loss: 2.7037 - val_acc: 0.2821\n",
            "Epoch 29/50\n",
            "346/346 [==============================] - 3s 10ms/step - loss: 2.4947 - acc: 0.2659 - val_loss: 2.4932 - val_acc: 0.4103\n",
            "Epoch 30/50\n",
            "346/346 [==============================] - 3s 10ms/step - loss: 2.3709 - acc: 0.3064 - val_loss: 2.3919 - val_acc: 0.4103\n",
            "Epoch 31/50\n",
            "346/346 [==============================] - 3s 10ms/step - loss: 2.2527 - acc: 0.3439 - val_loss: 2.2571 - val_acc: 0.4872\n",
            "Epoch 32/50\n",
            "346/346 [==============================] - 3s 10ms/step - loss: 2.1871 - acc: 0.3815 - val_loss: 2.0928 - val_acc: 0.4872\n",
            "Epoch 33/50\n",
            "346/346 [==============================] - 3s 10ms/step - loss: 2.1264 - acc: 0.3960 - val_loss: 2.0655 - val_acc: 0.5385\n",
            "Epoch 34/50\n",
            "346/346 [==============================] - 3s 10ms/step - loss: 2.0934 - acc: 0.3410 - val_loss: 2.0727 - val_acc: 0.4359\n",
            "Epoch 35/50\n",
            "346/346 [==============================] - 3s 10ms/step - loss: 1.8974 - acc: 0.4509 - val_loss: 1.8181 - val_acc: 0.5897\n",
            "Epoch 36/50\n",
            "346/346 [==============================] - 3s 10ms/step - loss: 1.8979 - acc: 0.4306 - val_loss: 1.8163 - val_acc: 0.5641\n",
            "Epoch 37/50\n",
            "346/346 [==============================] - 3s 10ms/step - loss: 1.7229 - acc: 0.4624 - val_loss: 1.6530 - val_acc: 0.5641\n",
            "Epoch 38/50\n",
            "346/346 [==============================] - 3s 10ms/step - loss: 1.7080 - acc: 0.5058 - val_loss: 1.6652 - val_acc: 0.5897\n",
            "Epoch 39/50\n",
            "346/346 [==============================] - 3s 10ms/step - loss: 1.6705 - acc: 0.4682 - val_loss: 1.5476 - val_acc: 0.6923\n",
            "Epoch 40/50\n",
            "346/346 [==============================] - 3s 10ms/step - loss: 1.5566 - acc: 0.5491 - val_loss: 1.4677 - val_acc: 0.6923\n",
            "Epoch 41/50\n",
            "346/346 [==============================] - 3s 10ms/step - loss: 1.4410 - acc: 0.5665 - val_loss: 1.4040 - val_acc: 0.6154\n",
            "Epoch 42/50\n",
            "346/346 [==============================] - 3s 10ms/step - loss: 1.4286 - acc: 0.5636 - val_loss: 1.2750 - val_acc: 0.6923\n",
            "Epoch 43/50\n",
            "346/346 [==============================] - 3s 10ms/step - loss: 1.3173 - acc: 0.5665 - val_loss: 1.3342 - val_acc: 0.7179\n",
            "Epoch 44/50\n",
            "346/346 [==============================] - 3s 10ms/step - loss: 1.2688 - acc: 0.6272 - val_loss: 1.2316 - val_acc: 0.7179\n",
            "Epoch 45/50\n",
            "346/346 [==============================] - 3s 10ms/step - loss: 1.3073 - acc: 0.6012 - val_loss: 1.2620 - val_acc: 0.7436\n",
            "Epoch 46/50\n",
            "346/346 [==============================] - 3s 10ms/step - loss: 1.3258 - acc: 0.5925 - val_loss: 1.1999 - val_acc: 0.7179\n",
            "Epoch 47/50\n",
            "346/346 [==============================] - 3s 10ms/step - loss: 1.2000 - acc: 0.6474 - val_loss: 1.0902 - val_acc: 0.7179\n",
            "Epoch 48/50\n",
            "346/346 [==============================] - 3s 10ms/step - loss: 1.2256 - acc: 0.6243 - val_loss: 1.1128 - val_acc: 0.7692\n",
            "Epoch 49/50\n",
            "346/346 [==============================] - 3s 10ms/step - loss: 1.1696 - acc: 0.6387 - val_loss: 1.0633 - val_acc: 0.7949\n",
            "Epoch 50/50\n",
            "346/346 [==============================] - 3s 10ms/step - loss: 1.0046 - acc: 0.7023 - val_loss: 1.0100 - val_acc: 0.7949\n",
            "39/39 [==============================] - 0s 4ms/step\n",
            "Loss: 1.0100068251291912\n",
            "Accuracy: 0.794871795635957\n",
            "39/39 [==============================] - 0s 6ms/step\n",
            "             precision    recall  f1-score   support\n",
            "\n",
            "          1       1.00      1.00      1.00         3\n",
            "          2       1.00      1.00      1.00         1\n",
            "          3       0.00      0.00      0.00         1\n",
            "          4       0.67      1.00      0.80         2\n",
            "          6       1.00      1.00      1.00         1\n",
            "          7       1.00      0.50      0.67         2\n",
            "          8       1.00      1.00      1.00         1\n",
            "          9       1.00      1.00      1.00         1\n",
            "         10       0.00      0.00      0.00         1\n",
            "         11       1.00      0.50      0.67         2\n",
            "         12       0.50      1.00      0.67         1\n",
            "         13       1.00      1.00      1.00         1\n",
            "         14       1.00      1.00      1.00         1\n",
            "         15       0.00      0.00      0.00         0\n",
            "         17       1.00      0.67      0.80         3\n",
            "         18       1.00      0.67      0.80         3\n",
            "         19       0.50      1.00      0.67         1\n",
            "         20       1.00      1.00      1.00         2\n",
            "         21       1.00      1.00      1.00         1\n",
            "         25       0.00      0.00      0.00         0\n",
            "         26       1.00      1.00      1.00         2\n",
            "         27       1.00      1.00      1.00         2\n",
            "         28       0.50      0.33      0.40         3\n",
            "         29       1.00      1.00      1.00         1\n",
            "         30       1.00      1.00      1.00         1\n",
            "         33       1.00      1.00      1.00         2\n",
            "\n",
            "avg / total       0.87      0.79      0.81        39\n",
            "\n"
          ],
          "name": "stdout"
        },
        {
          "output_type": "stream",
          "text": [
            "/usr/local/lib/python3.6/dist-packages/sklearn/metrics/classification.py:1135: UndefinedMetricWarning: Precision and F-score are ill-defined and being set to 0.0 in labels with no predicted samples.\n",
            "  'precision', 'predicted', average, warn_for)\n",
            "/usr/local/lib/python3.6/dist-packages/sklearn/metrics/classification.py:1137: UndefinedMetricWarning: Recall and F-score are ill-defined and being set to 0.0 in labels with no true samples.\n",
            "  'recall', 'true', average, warn_for)\n"
          ],
          "name": "stderr"
        },
        {
          "output_type": "display_data",
          "data": {
            "image/png": "[encoded data removed]",
            "text/plain": [
              "<matplotlib.figure.Figure at 0x7f54fa608b00>"
            ]
          },
          "metadata": {
            "tags": []
          }
        },
        {
          "output_type": "stream",
          "text": [
            "\n",
            "All test samples are correctly recognized.\n"
          ],
          "name": "stdout"
        },
        {
          "output_type": "stream",
          "text": [
            "/usr/local/lib/python3.6/dist-packages/ipykernel_launcher.py:60: DeprecationWarning: elementwise == comparison failed; this will raise an error in the future.\n",
            "/usr/local/lib/python3.6/dist-packages/ipykernel_launcher.py:61: DeprecationWarning: elementwise != comparison failed; this will raise an error in the future.\n"
          ],
          "name": "stderr"
        }
      ]
    },
    {
      "metadata": {
        "id": "GFbDAvfja4GV",
        "colab_type": "code",
        "colab": {}
      },
      "cell_type": "code",
      "source": [
        ""
      ],
      "execution_count": 0,
      "outputs": []
    }
  ]
}